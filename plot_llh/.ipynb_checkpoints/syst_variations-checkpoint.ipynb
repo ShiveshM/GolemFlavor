{
 "cells": [
  {
   "cell_type": "code",
   "execution_count": 1,
   "metadata": {},
   "outputs": [],
   "source": [
    "%matplotlib inline"
   ]
  },
  {
   "cell_type": "code",
   "execution_count": 2,
   "metadata": {},
   "outputs": [
    {
     "name": "stderr",
     "output_type": "stream",
     "text": [
      "/home/smandalia/.local/lib/python2.7/site-packages/matplotlib2tikz/__init__.py:31: UserWarning: matplotlib2tikz has been renamed to tikzplotlib (which is Python-3-only). matplotlib2tikz will no longer be supported.\n",
      "  warnings.warn(\"matplotlib2tikz has been renamed to tikzplotlib (which is Python-3-only). matplotlib2tikz will no longer be supported.\")\n"
     ]
    }
   ],
   "source": [
    "\"\"\"Systematic variations of HESE 7yr sample\"\"\"\n",
    "from copy import deepcopy\n",
    "import numpy as np\n",
    "import matplotlib as mpl\n",
    "from matplotlib import pyplot as plt\n",
    "plt.style.use('./paper.mplstyle')\n",
    "\n",
    "import matplotlib2tikz"
   ]
  },
  {
   "cell_type": "code",
   "execution_count": 3,
   "metadata": {},
   "outputs": [
    {
     "name": "stderr",
     "output_type": "stream",
     "text": [
      "/cvmfs/icecube.opensciencegrid.org/py2-v3.1.1/RHEL_7_x86_64/lib/python2.7/site-packages/ipykernel_launcher.py:1: RuntimeWarning: to-Python converter for std::vector<golemfit::UnfoldingSegment, std::allocator<golemfit::UnfoldingSegment> > already registered; second conversion method ignored.\n",
      "  \"\"\"Entry point for launching an IPython kernel.\n",
      "/cvmfs/icecube.opensciencegrid.org/py2-v3.1.1/RHEL_7_x86_64/lib/python2.7/site-packages/ipykernel_launcher.py:1: RuntimeWarning: to-Python converter for std::vector<golemfit::AstrophysicalNeutrinoModel, std::allocator<golemfit::AstrophysicalNeutrinoModel> > already registered; second conversion method ignored.\n",
      "  \"\"\"Entry point for launching an IPython kernel.\n",
      "/cvmfs/icecube.opensciencegrid.org/py2-v3.1.1/RHEL_7_x86_64/lib/python2.7/site-packages/ipykernel_launcher.py:1: RuntimeWarning: to-Python converter for nusquids::marray<double, 3u, std::allocator<double> > already registered; second conversion method ignored.\n",
      "  \"\"\"Entry point for launching an IPython kernel.\n",
      "/cvmfs/icecube.opensciencegrid.org/py2-v3.1.1/RHEL_7_x86_64/lib/python2.7/site-packages/ipykernel_launcher.py:1: RuntimeWarning: to-Python converter for nusquids::marray<double, 5u, std::allocator<double> > already registered; second conversion method ignored.\n",
      "  \"\"\"Entry point for launching an IPython kernel.\n"
     ]
    }
   ],
   "source": [
    "import GolemFitPy as gf\n",
    "\n",
    "# setup fitter\n",
    "datapaths = gf.DataPaths()\n",
    "npp = gf.NewPhysicsParams()\n",
    "\n",
    "sparams = gf.SteeringParams(gf.sampleTag.MagicTau)\n",
    "sparams.quiet = False\n",
    "sparams.fastmode = False\n",
    "sparams.minFitEnergy = 6E4 # GeV\n",
    "sparams.maxFitEnergy = 1E7 # GeV\n",
    "sparams.load_data_from_text_file = False\n",
    "sparams.use_legacy_selfveto_calculation = False\n",
    "sparams.do_HESE_reshuffle=False\n",
    "\n",
    "FITTER = gf.GolemFit(datapaths, sparams, npp)"
   ]
  },
  {
   "cell_type": "code",
   "execution_count": 4,
   "metadata": {},
   "outputs": [
    {
     "name": "stdout",
     "output_type": "stream",
     "text": [
      "1.0 2.5 2.0 0.444444447756 0.0 8.0 7.0 1.0 1.0 0.0 10.0 9.99999968266e-21 0.990000009537 0.0 1.0 1.0 1.0 1.0 56400.0 0.0\n",
      "convNorm = 1.0\n",
      "promptNorm = 1.0\n",
      "muonNorm = 1.0\n",
      "astroNorm = 8.0\n",
      "astroDeltaGamma = 2.5\n"
     ]
    }
   ],
   "source": [
    "fitparams = gf.FitParameters(gf.sampleTag.MagicTau)\n",
    "print fitparams.anisotropyScale,\n",
    "print fitparams.astroDeltaGamma,\n",
    "print fitparams.astroDeltaGammaSec,\n",
    "print fitparams.astroFlavorAngle1,\n",
    "print fitparams.astroFlavorAngle2,\n",
    "print fitparams.astroNorm,\n",
    "print fitparams.astroNormSec,\n",
    "print fitparams.astroParticleBalance,\n",
    "print fitparams.convNorm,\n",
    "print fitparams.CRDeltaGamma,\n",
    "print fitparams.cutoffEnergy,\n",
    "print fitparams.darkNorm,\n",
    "print fitparams.domEfficiency,\n",
    "print fitparams.holeiceForward,\n",
    "print fitparams.muonNorm,\n",
    "print fitparams.NeutrinoAntineutrinoRatio,\n",
    "print fitparams.piKRatio,\n",
    "print fitparams.promptNorm,\n",
    "print fitparams.timeSplit,\n",
    "print fitparams.zenithCorrection\n",
    "\n",
    "nuisance = ('convNorm', 'promptNorm', 'muonNorm', 'astroNorm', 'astroDeltaGamma')\n",
    "for n in nuisance:\n",
    "    print n, '=', fitparams.__getattribute__(n)"
   ]
  },
  {
   "cell_type": "code",
   "execution_count": 5,
   "metadata": {},
   "outputs": [
    {
     "name": "stdout",
     "output_type": "stream",
     "text": [
      "[0.111      0.111      0.111      0.111      0.111      0.111\n",
      " 0.111      0.111      0.111      0.111      0.111      0.111\n",
      " 0.111      0.111      0.111      0.111      0.111      0.111\n",
      " 0.111      0.111      0.00184875]\n",
      "[0.11109244 0.11109244 0.11109244 0.11109244 0.11109244 0.11109244\n",
      " 0.11109244 0.11109244 0.11109244 0.11109244 0.11109244 0.11109244\n",
      " 0.11109244 0.11109244 0.11109244 0.11109244 0.11109244 0.11109244\n",
      " 0.11109244 0.11109244]\n",
      "2635.5112\n"
     ]
    }
   ],
   "source": [
    "binning = FITTER.GetEnergyBinsMC()\n",
    "print np.diff(np.log10(binning))\n",
    "print np.diff(np.log10(np.logspace(np.log10(6E4), np.log10(1E7), 21)))\n",
    "\n",
    "livetime = FITTER.GetLivetime()/(3600.*24)\n",
    "print livetime"
   ]
  },
  {
   "cell_type": "code",
   "execution_count": 6,
   "metadata": {},
   "outputs": [],
   "source": [
    "def parse_exp(x):\n",
    "    h = np.sum(x, axis=(0,1,2,3))\n",
    "    return np.concatenate([[h[0]], h])"
   ]
  },
  {
   "cell_type": "code",
   "execution_count": 7,
   "metadata": {},
   "outputs": [],
   "source": [
    "null_exp = parse_exp(FITTER.GetExpectation(fitparams))\n",
    "\n",
    "d = fitparams.convNorm\n",
    "fitparams.convNorm = 1.4\n",
    "norm_conv_p = parse_exp(FITTER.GetExpectation(fitparams))\n",
    "fitparams.convNorm = 0.6\n",
    "norm_conv_n = parse_exp(FITTER.GetExpectation(fitparams))\n",
    "fitparams.convNorm = d\n",
    "\n",
    "d = fitparams.promptNorm\n",
    "fitparams.promptNorm = 2.4\n",
    "prompt_p = parse_exp(FITTER.GetExpectation(fitparams))\n",
    "fitparams.promptNorm = 0\n",
    "prompt_n = parse_exp(FITTER.GetExpectation(fitparams))\n",
    "fitparams.promptNorm = d\n",
    "\n",
    "d = fitparams.muonNorm\n",
    "fitparams.muonNorm = 1.5\n",
    "muon_p = parse_exp(FITTER.GetExpectation(fitparams))\n",
    "fitparams.muonNorm = 0.5\n",
    "muon_n = parse_exp(FITTER.GetExpectation(fitparams))\n",
    "fitparams.muonNorm = d\n",
    "\n",
    "d = fitparams.astroNorm\n",
    "fitparams.astroNorm = 12\n",
    "astro_p = parse_exp(FITTER.GetExpectation(fitparams))\n",
    "fitparams.astroNorm = 4\n",
    "astro_n = parse_exp(FITTER.GetExpectation(fitparams))\n",
    "fitparams.astroNorm = d\n",
    "\n",
    "d = fitparams.astroDeltaGamma\n",
    "fitparams.astroDeltaGamma = 3\n",
    "dastro_index_p = parse_exp(FITTER.GetExpectation(fitparams))\n",
    "fitparams.astroDeltaGamma = 2\n",
    "dastro_index_n = parse_exp(FITTER.GetExpectation(fitparams))\n",
    "fitparams.astroDeltaGamma = d"
   ]
  },
  {
   "cell_type": "code",
   "execution_count": 24,
   "metadata": {},
   "outputs": [
    {
     "data": {
      "image/png": "[encoded data removed]",
      "text/plain": [
       "<matplotlib.figure.Figure at 0x7f8e1459e850>"
      ]
     },
     "metadata": {
      "needs_background": "light"
     },
     "output_type": "display_data"
    }
   ],
   "source": [
    "fontsize = 16\n",
    "\n",
    "fig = plt.figure(figsize=(7, 5))\n",
    "ax = fig.add_subplot(111)\n",
    "\n",
    "ax.set_xlim(binning[0], binning[-1])\n",
    "ax.set_ylim(0.9, 1.1)\n",
    "\n",
    "ax.set_xscale('log')\n",
    "#ax.set_yscale('log')\n",
    "\n",
    "ax.set_xlabel(r'Deposited Energy [GeV]', fontsize=fontsize)\n",
    "#ax.set_ylabel(r'Events per 2635 days', fontsize=fontsize)\n",
    "ax.set_ylabel(r'Ratio to baseline', fontsize=fontsize)\n",
    "\n",
    "ax.tick_params(axis='x', labelsize=fontsize, which='both', direction='in')\n",
    "ax.tick_params(axis='y', labelsize=fontsize, which='both', direction='in')\n",
    "\n",
    "ax.step(\n",
    "    binning, null_exp / null_exp, drawstyle='steps-pre',\n",
    "    linewidth=2, linestyle='-', color='black'\n",
    ")\n",
    "\n",
    "ax.step(\n",
    "    binning, norm_conv_p / null_exp, drawstyle='steps-pre', label=r'$+40\\%\\:N_{\\rm{atm}}$',\n",
    "    linewidth=2, linestyle='--', color='blue'\n",
    ")\n",
    "ax.step(\n",
    "    binning, norm_conv_n / null_exp, drawstyle='steps-pre', label=r'$-40\\%\\:N_{\\rm{atm}}$',\n",
    "    linewidth=2, linestyle=':', color='red'\n",
    ")\n",
    "\n",
    "ax.legend(loc='upper right', prop={'size': fontsize})#, bbox_to_anchor=(0.96, 0.96), markerfirst=False)\n",
    "\n",
    "#ax.text(\n",
    "#    8E4, 0.2, r'${\\rm\\bf IceCube\\:Preliminary}$', fontsize=fontsize, color='r'\n",
    "#)\n",
    "ax.text(\n",
    "    0.5, 0.1, r'${\\rm\\bf IceCube\\:Preliminary}$', fontsize=fontsize, color='r', transform=ax.transAxes\n",
    ")\n",
    "\n",
    "matplotlib2tikz.save(\"plots/tex/syst_convnorm.tex\")"
   ]
  },
  {
   "cell_type": "code",
   "execution_count": 25,
   "metadata": {},
   "outputs": [
    {
     "data": {
      "image/png": "[encoded data removed]",
      "text/plain": [
       "<matplotlib.figure.Figure at 0x7f8e14e42290>"
      ]
     },
     "metadata": {
      "needs_background": "light"
     },
     "output_type": "display_data"
    }
   ],
   "source": [
    "fontsize = 16\n",
    "\n",
    "fig = plt.figure(figsize=(7, 5))\n",
    "ax = fig.add_subplot(111)\n",
    "\n",
    "ax.set_xlim(binning[0], binning[-1])\n",
    "#ax.set_ylim(1E-1, 40)\n",
    "ax.set_ylim(0.9, 1.1)\n",
    "\n",
    "ax.set_xscale('log')\n",
    "#ax.set_yscale('log')\n",
    "\n",
    "ax.set_xlabel(r'Deposited Energy [GeV]', fontsize=fontsize)\n",
    "#ax.set_ylabel(r'Events per 2635 days', fontsize=fontsize)\n",
    "ax.set_ylabel(r'Ratio to baseline', fontsize=fontsize)\n",
    "\n",
    "ax.tick_params(axis='x', labelsize=fontsize, which='both', direction='in')\n",
    "ax.tick_params(axis='y', labelsize=fontsize, which='both', direction='in')\n",
    "\n",
    "ax.step(\n",
    "    binning, null_exp / null_exp, drawstyle='steps-pre',\n",
    "    linewidth=2, linestyle='-', color='black'\n",
    ")\n",
    "\n",
    "ax.step(\n",
    "    binning, prompt_p / null_exp, drawstyle='steps-pre', label=r'$N_{\\rm{prompt}}=2.4$',\n",
    "    linewidth=2, linestyle='--', color='blue'\n",
    ")\n",
    "ax.step(\n",
    "    binning, prompt_n / null_exp, drawstyle='steps-pre', label=r'$N_{\\rm{prompt}}=0$',\n",
    "    linewidth=2, linestyle=':', color='red'\n",
    ")\n",
    "\n",
    "ax.legend(loc='upper right', prop={'size': fontsize})#, bbox_to_anchor=(0.96, 0.96), markerfirst=False)\n",
    "\n",
    "#ax.text(\n",
    "#    8E4, 0.2, r'${\\rm\\bf IceCube\\:Preliminary}$', fontsize=fontsize, color='r'\n",
    "#)\n",
    "ax.text(\n",
    "    0.5, 0.1, r'${\\rm\\bf IceCube\\:Preliminary}$', fontsize=fontsize, color='r', transform=ax.transAxes\n",
    ")\n",
    "\n",
    "matplotlib2tikz.save(\"plots/tex/syst_prompt.tex\")"
   ]
  },
  {
   "cell_type": "code",
   "execution_count": 26,
   "metadata": {},
   "outputs": [
    {
     "data": {
      "image/png": "[encoded data removed]",
      "text/plain": [
       "<matplotlib.figure.Figure at 0x7f8e14be2150>"
      ]
     },
     "metadata": {
      "needs_background": "light"
     },
     "output_type": "display_data"
    }
   ],
   "source": [
    "fontsize = 16\n",
    "\n",
    "fig = plt.figure(figsize=(7, 5))\n",
    "ax = fig.add_subplot(111)\n",
    "\n",
    "ax.set_xlim(binning[0], binning[-1])\n",
    "#ax.set_ylim(1E-1, 40)\n",
    "ax.set_ylim(0.9, 1.1)\n",
    "\n",
    "ax.set_xscale('log')\n",
    "#ax.set_yscale('log')\n",
    "\n",
    "ax.set_xlabel(r'Deposited Energy [GeV]', fontsize=fontsize)\n",
    "#ax.set_ylabel(r'Events per 2635 days', fontsize=fontsize)\n",
    "ax.set_ylabel(r'Ratio to baseline', fontsize=fontsize)\n",
    "\n",
    "ax.tick_params(axis='x', labelsize=fontsize, which='both', direction='in')\n",
    "ax.tick_params(axis='y', labelsize=fontsize, which='both', direction='in')\n",
    "\n",
    "ax.step(\n",
    "    binning, null_exp / null_exp, drawstyle='steps-pre',\n",
    "    linewidth=2, linestyle='-', color='black'\n",
    ")\n",
    "\n",
    "ax.step(\n",
    "    binning, muon_p / null_exp, drawstyle='steps-pre', label=r'$N_{\\rm{muon}}=1.5$',\n",
    "    linewidth=2, linestyle='--', color='blue'\n",
    ")\n",
    "ax.step(\n",
    "    binning, muon_n  / null_exp, drawstyle='steps-pre', label=r'$N_{\\rm{muon}}=0.5$',\n",
    "    linewidth=2, linestyle=':', color='red'\n",
    ")\n",
    "\n",
    "ax.legend(loc='upper right', prop={'size': fontsize})#, bbox_to_anchor=(0.96, 0.96), markerfirst=False)\n",
    "\n",
    "#ax.text(\n",
    "#    8E4, 0.2, r'${\\rm\\bf IceCube\\:Preliminary}$', fontsize=fontsize, color='r'\n",
    "#)\n",
    "ax.text(\n",
    "    0.5, 0.1, r'${\\rm\\bf IceCube\\:Preliminary}$', fontsize=fontsize, color='r', transform=ax.transAxes\n",
    ")\n",
    "\n",
    "matplotlib2tikz.save(\"plots/tex/syst_muon.tex\")"
   ]
  },
  {
   "cell_type": "code",
   "execution_count": 11,
   "metadata": {},
   "outputs": [
    {
     "data": {
      "image/png": "[encoded data removed]",
      "text/plain": [
       "<matplotlib.figure.Figure at 0x7f8e14bc2f10>"
      ]
     },
     "metadata": {
      "needs_background": "light"
     },
     "output_type": "display_data"
    }
   ],
   "source": [
    "fontsize = 16\n",
    "\n",
    "fig = plt.figure(figsize=(7, 5))\n",
    "ax = fig.add_subplot(111)\n",
    "\n",
    "ax.set_xlim(binning[0], binning[-1])\n",
    "ax.set_ylim(1E-1, 40)\n",
    "\n",
    "ax.set_xscale('log')\n",
    "ax.set_yscale('log')\n",
    "\n",
    "ax.set_xlabel(r'Deposited Energy [GeV]', fontsize=fontsize)\n",
    "ax.set_ylabel(r'Events per 2635 days', fontsize=fontsize)\n",
    "\n",
    "ax.tick_params(axis='x', labelsize=fontsize, which='both', direction='in')\n",
    "ax.tick_params(axis='y', labelsize=fontsize, which='both', direction='in')\n",
    "\n",
    "ax.step(\n",
    "    binning, null_exp, drawstyle='steps-pre',\n",
    "    linewidth=2, linestyle='-', color='black'\n",
    ")\n",
    "\n",
    "ax.step(\n",
    "    binning, astro_p, drawstyle='steps-pre', label=r'$N_{\\rm{astro}}=12$',\n",
    "    linewidth=2, linestyle='--', color='blue'\n",
    ")\n",
    "ax.step(\n",
    "    binning, astro_n, drawstyle='steps-pre', label=r'$N_{\\rm{astro}}=4$',\n",
    "    linewidth=2, linestyle=':', color='red'\n",
    ")\n",
    "\n",
    "ax.legend(loc='upper right', prop={'size': fontsize})#, bbox_to_anchor=(0.96, 0.96), markerfirst=False)\n",
    "\n",
    "ax.text(\n",
    "    8E4, 0.2, r'${\\rm\\bf IceCube\\:Preliminary}$', fontsize=fontsize, color='r'\n",
    ")\n",
    "\n",
    "matplotlib2tikz.save(\"plots/tex/syst_astro.tex\")"
   ]
  },
  {
   "cell_type": "code",
   "execution_count": 12,
   "metadata": {},
   "outputs": [
    {
     "data": {
      "image/png": "[encoded data removed]",
      "text/plain": [
       "<matplotlib.figure.Figure at 0x7f8e14957490>"
      ]
     },
     "metadata": {
      "needs_background": "light"
     },
     "output_type": "display_data"
    }
   ],
   "source": [
    "fontsize = 16\n",
    "\n",
    "fig = plt.figure(figsize=(7, 5))\n",
    "ax = fig.add_subplot(111)\n",
    "\n",
    "ax.set_xlim(binning[0], binning[-1])\n",
    "ax.set_ylim(1E-1, 40)\n",
    "\n",
    "ax.set_xscale('log')\n",
    "ax.set_yscale('log')\n",
    "\n",
    "ax.set_xlabel(r'Deposited Energy [GeV]', fontsize=fontsize)\n",
    "ax.set_ylabel(r'Events per 2635 days', fontsize=fontsize)\n",
    "\n",
    "ax.tick_params(axis='x', labelsize=fontsize, which='both', direction='in')\n",
    "ax.tick_params(axis='y', labelsize=fontsize, which='both', direction='in')\n",
    "\n",
    "ax.step(\n",
    "    binning, null_exp, drawstyle='steps-pre',\n",
    "    linewidth=2, linestyle='-', color='black'\n",
    ")\n",
    "\n",
    "ax.step(\n",
    "    binning, dastro_index_p, drawstyle='steps-pre', label=r'$\\gamma_{\\rm{astro}}=3.0$',\n",
    "    linewidth=2, linestyle='--', color='blue'\n",
    ")\n",
    "ax.step(\n",
    "    binning, dastro_index_n, drawstyle='steps-pre', label=r'$\\gamma_{\\rm{astro}}=2.0$',\n",
    "    linewidth=2, linestyle=':', color='red'\n",
    ")\n",
    "\n",
    "ax.legend(loc='upper right', prop={'size': fontsize})#, bbox_to_anchor=(0.96, 0.96), markerfirst=False)\n",
    "\n",
    "ax.text(\n",
    "    8E4, 0.2, r'${\\rm\\bf IceCube\\:Preliminary}$', fontsize=fontsize, color='r'\n",
    ")\n",
    "\n",
    "matplotlib2tikz.save(\"plots/tex/syst_astro_index.tex\")"
   ]
  }
 ],
 "metadata": {
  "anaconda-cloud": {},
  "kernelspec": {
   "display_name": "Python 2",
   "language": "python",
   "name": "python2"
  },
  "language_info": {
   "codemirror_mode": {
    "name": "ipython",
    "version": 2
   },
   "file_extension": ".py",
   "mimetype": "text/x-python",
   "name": "python",
   "nbconvert_exporter": "python",
   "pygments_lexer": "ipython2",
   "version": "2.7.15"
  }
 },
 "nbformat": 4,
 "nbformat_minor": 1
}
