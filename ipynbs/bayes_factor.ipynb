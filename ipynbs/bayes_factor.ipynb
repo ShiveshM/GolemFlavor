{
 "cells": [
  {
   "cell_type": "code",
   "execution_count": 1,
   "metadata": {},
   "outputs": [],
   "source": [
    "%matplotlib inline\n",
    "%load_ext autoreload\n",
    "%autoreload 2"
   ]
  },
  {
   "cell_type": "code",
   "execution_count": 2,
   "metadata": {},
   "outputs": [
    {
     "name": "stderr",
     "output_type": "stream",
     "text": [
      "/home/smandalia/.local/lib/python2.7/site-packages/matplotlib2tikz/__init__.py:31: UserWarning: matplotlib2tikz has been renamed to tikzplotlib (which is Python-3-only). matplotlib2tikz will no longer be supported.\n",
      "  warnings.warn(\"matplotlib2tikz has been renamed to tikzplotlib (which is Python-3-only). matplotlib2tikz will no longer be supported.\")\n"
     ]
    }
   ],
   "source": [
    "\"\"\"Bayes factor plots\"\"\"\n",
    "import sys\n",
    "sys.path.extend(['.', '..'])\n",
    "\n",
    "import numpy as np\n",
    "from matplotlib import pyplot as plt\n",
    "\n",
    "import warnings\n",
    "with warnings.catch_warnings():\n",
    "    warnings.simplefilter(\"ignore\")\n",
    "    from sens import parse_args\n",
    "    from utils import plot as plot_utils\n",
    "    from utils.fr import SCALE_BOUNDARIES\n",
    "    from utils.misc import get_units\n",
    "\n",
    "import matplotlib2tikz"
   ]
  },
  {
   "cell_type": "code",
   "execution_count": 3,
   "metadata": {},
   "outputs": [],
   "source": [
    "DIM = 6\n",
    "SC_010 = [(0, 1, 0), 'OET']\n",
    "SC_100 = [(1, 0, 0), 'OUT']\n",
    "\n",
    "DATADIR = '/data/user/smandalia/flavour_ratio/data/sensitivity/DIM{0}/bayesian/real/fr_stat_DIM{0}_sfr'.format(DIM)\n",
    "\n",
    "SEGMENTS = 10\n",
    "\n",
    "args_010 = parse_args('--dimension {0} --source-ratio {1} {2} {3} --stat-method bayesian'.format(DIM, *SC_010[0]))\n",
    "args_100 = parse_args('--dimension {0} --source-ratio {1} {2} {3} --stat-method bayesian'.format(DIM, *SC_100[0]))"
   ]
  },
  {
   "cell_type": "code",
   "execution_count": 4,
   "metadata": {},
   "outputs": [],
   "source": [
    "boundaries = SCALE_BOUNDARIES[DIM]\n",
    "eval_scales = np.linspace(boundaries[0], boundaries[1], SEGMENTS-1)\n",
    "eval_scales = np.concatenate([[-100.], eval_scales])"
   ]
  },
  {
   "cell_type": "code",
   "execution_count": 13,
   "metadata": {},
   "outputs": [
    {
     "name": "stdout",
     "output_type": "stream",
     "text": [
      "scales, stat [(-100.0, -29.555862612249648), (-56.0, -29.766019647372207), (-52.75, -29.623184822825394), (-49.5, -29.928550147551004), (-46.25, -30.610604313154642), (-43.0, -37.94956693781441), (-39.75, -40.40734055766876), (-36.5, -40.60191617254397), (-33.25, -40.302401793524595), (-30.0, -40.61265085007461)]\n",
      "[reduced_ev > np.log(10**(BAYES_K))] 264\n",
      "limit = -45.1082397392\n",
      "scales, stat [(-100.0, -29.555862612249648), (-56.0, -29.766019647372207), (-52.75, -29.623184822825394), (-49.5, -29.928550147551004), (-46.25, -30.610604313154642), (-43.0, -37.94956693781441), (-39.75, -40.40734055766876), (-36.5, -40.60191617254397), (-33.25, -40.302401793524595), (-30.0, -40.61265085007461)]\n",
      "[reduced_ev > np.log(10**(BAYES_K))] 264\n"
     ]
    }
   ],
   "source": [
    "base_infile = DATADIR + '_{0}_{1}_{2}_'.format(*SC_010[0]) + SC_010[1] + '_scale_'\n",
    "\n",
    "d_010 = []\n",
    "for scale in eval_scales:\n",
    "    infile = base_infile + '{0:.0E}'.format(np.power(10, scale)) + '.npy'\n",
    "    d_010.append(np.load(infile)[0])\n",
    "d_010 = np.dstack(d_010)[0]\n",
    "\n",
    "lim_010 = plot_utils.get_limit(d_010[0], d_010[1], args_010, mask_initial=True)\n",
    "sc, st = plot_utils.get_limit(d_010[0], d_010[1], args_010, mask_initial=True, return_interp=True)\n",
    "d_010 = np.vstack([sc, st])"
   ]
  },
  {
   "cell_type": "code",
   "execution_count": 15,
   "metadata": {},
   "outputs": [
    {
     "name": "stdout",
     "output_type": "stream",
     "text": [
      "[[-100.          -56.          -52.75        -49.5         -46.25\n",
      "   -43.          -39.75        -36.5         -33.25        -30.        ]\n",
      " [ -31.98570191  -31.93911116  -31.9159181   -31.26814871  -34.16971184\n",
      "   -35.1842944   -35.26534428  -35.31729645  -35.24392331  -35.29710952]]\n",
      "scales, stat [(-100.0, -31.9857019100975), (-56.0, -31.939111164736115), (-52.75, -31.915918104898985), (-49.5, -31.268148706631592), (-46.25, -34.16971184021791), (-43.0, -35.184294403803335), (-39.75, -35.26534428423956), (-36.5, -35.31729644732499), (-33.25, -35.24392330992847), (-30.0, -35.29710952128992)]\n",
      "[reduced_ev > np.log(10**(BAYES_K))] 228\n",
      "limit = -46.0829187287\n",
      "scales, stat [(-100.0, -31.9857019100975), (-56.0, -31.939111164736115), (-52.75, -31.915918104898985), (-49.5, -31.268148706631592), (-46.25, -34.16971184021791), (-43.0, -35.184294403803335), (-39.75, -35.26534428423956), (-36.5, -35.31729644732499), (-33.25, -35.24392330992847), (-30.0, -35.29710952128992)]\n",
      "[reduced_ev > np.log(10**(BAYES_K))] 228\n"
     ]
    }
   ],
   "source": [
    "base_infile = DATADIR + '_{0}_{1}_{2}_'.format(*SC_100[0]) + SC_100[1] + '_scale_'\n",
    "\n",
    "d_100 = []\n",
    "for scale in eval_scales:\n",
    "    infile = base_infile + '{0:.0E}'.format(np.power(10, scale)) + '.npy'\n",
    "    d_100.append(np.load(infile)[0])\n",
    "d_100 = np.dstack(d_100)[0]\n",
    "print d_100\n",
    "\n",
    "lim_100 = plot_utils.get_limit(d_100[0], d_100[1], args_100, mask_initial=True)\n",
    "sc, st = plot_utils.get_limit(d_100[0], d_100[1], args_100, mask_initial=True, return_interp=True)\n",
    "d_100 = np.vstack([sc, st])"
   ]
  },
  {
   "cell_type": "code",
   "execution_count": 43,
   "metadata": {},
   "outputs": [
    {
     "data": {
      "image/png": "[encoded data removed]",
      "text/plain": [
       "<matplotlib.figure.Figure at 0x7f3d24097c50>"
      ]
     },
     "metadata": {
      "needs_background": "light"
     },
     "output_type": "display_data"
    }
   ],
   "source": [
    "fontsize = 16\n",
    "\n",
    "fig = plt.figure(figsize=(7, 5))\n",
    "ax = fig.add_subplot(111)\n",
    "\n",
    "ax.set_xlim(boundaries)\n",
    "ax.set_ylim(-1, 12)\n",
    "\n",
    "ax.set_xlabel(r'${\\rm log}_{10}\\left[\\Lambda^{-1}_{'+ \\\n",
    "              r'{0}'.format(DIM)+r'}'+ \\\n",
    "              get_units(DIM)+r'\\right]$', fontsize=fontsize)\n",
    "\n",
    "ax.set_ylabel(r'$\\text{Bayes\\:Factor}\\:\\left[\\text{ln}\\left(B_{0/1}\\right)\\right]$')\n",
    "\n",
    "ax.tick_params(axis='x', labelsize=fontsize, which='both', direction='in')\n",
    "ax.tick_params(axis='y', labelsize=fontsize, which='both', direction='in')\n",
    "\n",
    "ax.plot(d_010[0], d_010[1], color='g', lw=2, ls='-')\n",
    "ax.text(\n",
    "    -40, 9.7, r'$\\left(0:1:0\\right)_\\text{S}\\text{\\:w/\\:}\\mathcal{O}_{e\\tau}\\text{\\:texture}$',\n",
    "    fontsize=fontsize-3, color='g'\n",
    ")\n",
    "\n",
    "ax.plot(d_100[0], d_100[1], color='b', lw=2, ls='-',)\n",
    "ax.text(\n",
    "    -41, 3.7, r'$\\left(1:0:0\\right)_\\text{S}\\text{\\:w/\\:}\\mathcal{O}_{\\mu\\tau}\\text{\\:texture}$',\n",
    "    fontsize=fontsize-3, color='b'\n",
    ")\n",
    "\n",
    "ax.axhline(y=np.log(10**(plot_utils.BAYES_K)), color='k', linewidth=1.5, ls='--')\n",
    "ax.text(\n",
    "    -54, 2.6, r'$B_{0/1}='+r'{0}$'.format(int(10**(plot_utils.BAYES_K))),\n",
    "    fontsize=fontsize-3, color='k'\n",
    ")\n",
    "ax.vlines(lim_010, ymin=-10, ymax=np.log(10**plot_utils.BAYES_K), color='g', linewidth=1.5, linestyles='--')\n",
    "ax.vlines(lim_100, ymin=-10, ymax=np.log(10**plot_utils.BAYES_K), color='b', linewidth=1.5, linestyles='--')\n",
    "\n",
    "ax.text(\n",
    "    -55, 11, r'${\\rm\\bf IceCube\\:Preliminary}$', fontsize=fontsize, color='r'\n",
    ")\n",
    "\n",
    "matplotlib2tikz.save(\"plots/tex/bayes_factor.tex\")"
   ]
  }
 ],
 "metadata": {
  "kernelspec": {
   "display_name": "Python 2",
   "language": "python",
   "name": "python2"
  },
  "language_info": {
   "codemirror_mode": {
    "name": "ipython",
    "version": 2
   },
   "file_extension": ".py",
   "mimetype": "text/x-python",
   "name": "python",
   "nbconvert_exporter": "python",
   "pygments_lexer": "ipython2",
   "version": "2.7.15"
  }
 },
 "nbformat": 4,
 "nbformat_minor": 2
}
